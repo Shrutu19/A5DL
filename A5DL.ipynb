{
 "cells": [
  {
   "cell_type": "code",
   "execution_count": 12,
   "id": "6be572d8",
   "metadata": {},
   "outputs": [],
   "source": [
    "import numpy as np\n",
    "import keras.backend as k\n",
    "import gensim\n",
    "from keras.models import Sequential\n",
    "from keras.utils import np_utils\n",
    "from keras.preprocessing import sequence\n",
    "from keras.preprocessing.text import Tokenizer\n",
    "from keras.layers import Embedding, Dense, Lambda"
   ]
  },
  {
   "cell_type": "code",
   "execution_count": 13,
   "id": "5246c5ba",
   "metadata": {},
   "outputs": [],
   "source": [
    "data=open(\"corona.txt\", \"r\")"
   ]
  },
  {
   "cell_type": "code",
   "execution_count": 14,
   "id": "00b1894b",
   "metadata": {},
   "outputs": [],
   "source": [
    "covid_data=[text for text in data if text.count(\"\")>=2]\n",
    "vectorize=Tokenizer()\n",
    "vectorize.fit_on_texts(covid_data)\n",
    "covid_data=vectorize.texts_to_sequences(covid_data)\n",
    "total_vocab=sum(len(s) for s in covid_data)\n",
    "word_count=len(vectorize.word_index)+1\n",
    "window_size=2"
   ]
  },
  {
   "cell_type": "code",
   "execution_count": 15,
   "id": "d74eebb6",
   "metadata": {},
   "outputs": [],
   "source": [
    "def cbow_model(data,windows_size,total_vocab):\n",
    "    total_length=window_size*2\n",
    "    for text in data:\n",
    "        text_len=len(text)\n",
    "        for idx, word in enumerate(text):\n",
    "            context_word=[]\n",
    "            target=[]\n",
    "            begin=idx-window_size\n",
    "            end=idx+window_size+1\n",
    "            context_word.append([text[i] for i in range(begin,end) if 0<-i<text_len and 1!=idx])\n",
    "            target.append(word)\n",
    "            contextual=sequence.pad_sequences(context_word, total_length=total_length)\n",
    "            final_target=np_utils.to_categorical(target, total_vocab)\n",
    "            yield(contextual, final_target)"
   ]
  },
  {
   "cell_type": "code",
   "execution_count": 31,
   "id": "08ffd4fc",
   "metadata": {
    "scrolled": true
   },
   "outputs": [
    {
     "name": "stdout",
     "output_type": "stream",
     "text": [
      "0 0\n",
      "1 0\n",
      "2 0\n",
      "3 0\n",
      "4 0\n",
      "5 0\n",
      "6 0\n",
      "7 0\n",
      "8 0\n",
      "9 0\n"
     ]
    }
   ],
   "source": [
    "model=Sequential()\n",
    "model.add(Embedding(input_dim=total_vocab,output_dim=100,input_length=window_size*2))\n",
    "model.add(Lambda(lambda x : k.mean (x, axis=1), output_shape=(100,)))\n",
    "model.add(Dense(total_vocab, activation=\"softmax\"))\n",
    "model.compile(loss=\"categorical_crossentropy\", optimizer=\"adam\")\n",
    "for i in range(10):\n",
    " cost=0\n",
    " for x, y in cbow_model(data,window_size, total_vocab):\n",
    "    cost+=model.train_on_batch(contextual, final_target)\n",
    " print(i, cost)"
   ]
  },
  {
   "cell_type": "code",
   "execution_count": 33,
   "id": "7fc85fe8",
   "metadata": {},
   "outputs": [
    {
     "data": {
      "text/plain": [
       "8"
      ]
     },
     "execution_count": 33,
     "metadata": {},
     "output_type": "execute_result"
    }
   ],
   "source": [
    "dimensions = 100\n",
    "vect_file=open(\"vector2.txt\", \"w\")\n",
    "vect_file.write('{} {}\\n'.format(total_vocab, dimensions))"
   ]
  },
  {
   "cell_type": "code",
   "execution_count": 34,
   "id": "70168d3f",
   "metadata": {},
   "outputs": [],
   "source": [
    "weights = model.get_weights()[0]\n",
    "for text, i in vectorize.word_index.items():\n",
    "    final_vec = ' '.join(map(str, list(weights[i, :])))\n",
    "    vect_file.write('{} {}\\n'.format(text, final_vec))\n",
    "vect_file.close()"
   ]
  },
  {
   "cell_type": "code",
   "execution_count": null,
   "id": "197f6e0c",
   "metadata": {},
   "outputs": [],
   "source": [
    "cbow_output = gensim.models.KeyedVectors.load_word2vec_format(\"vector2.txt\", binary=False)\n",
    "cbow_output.most_similar(positive=['virus'])"
   ]
  }
 ],
 "metadata": {
  "kernelspec": {
   "display_name": "Python 3 (ipykernel)",
   "language": "python",
   "name": "python3"
  },
  "language_info": {
   "codemirror_mode": {
    "name": "ipython",
    "version": 3
   },
   "file_extension": ".py",
   "mimetype": "text/x-python",
   "name": "python",
   "nbconvert_exporter": "python",
   "pygments_lexer": "ipython3",
   "version": "3.9.13"
  }
 },
 "nbformat": 4,
 "nbformat_minor": 5
}
